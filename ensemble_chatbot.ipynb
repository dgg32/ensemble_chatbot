{
  "nbformat": 4,
  "nbformat_minor": 0,
  "metadata": {
    "colab": {
      "provenance": []
    },
    "kernelspec": {
      "name": "python3",
      "display_name": "Python 3"
    },
    "language_info": {
      "name": "python"
    }
  },
  "cells": [
    {
      "cell_type": "code",
      "execution_count": null,
      "metadata": {
        "colab": {
          "base_uri": "https://localhost:8080/"
        },
        "id": "zRbjFVmDKJWK",
        "outputId": "bb08c0e7-b3d7-4502-ee8e-45d85b230c78"
      },
      "outputs": [
        {
          "output_type": "stream",
          "name": "stdout",
          "text": [
            "Looking in indexes: https://pypi.org/simple, https://us-python.pkg.dev/colab-wheels/public/simple/\n",
            "Collecting boto3\n",
            "  Downloading boto3-1.26.80-py3-none-any.whl (132 kB)\n",
            "\u001b[2K     \u001b[90m━━━━━━━━━━━━━━━━━━━━━━━━━━━━━━━━━━━━━━━\u001b[0m \u001b[32m132.7/132.7 KB\u001b[0m \u001b[31m1.7 MB/s\u001b[0m eta \u001b[36m0:00:00\u001b[0m\n",
            "\u001b[?25hCollecting s3transfer<0.7.0,>=0.6.0\n",
            "  Downloading s3transfer-0.6.0-py3-none-any.whl (79 kB)\n",
            "\u001b[2K     \u001b[90m━━━━━━━━━━━━━━━━━━━━━━━━━━━━━━━━━━━━━━━━\u001b[0m \u001b[32m79.6/79.6 KB\u001b[0m \u001b[31m5.8 MB/s\u001b[0m eta \u001b[36m0:00:00\u001b[0m\n",
            "\u001b[?25hCollecting botocore<1.30.0,>=1.29.80\n",
            "  Downloading botocore-1.29.80-py3-none-any.whl (10.5 MB)\n",
            "\u001b[2K     \u001b[90m━━━━━━━━━━━━━━━━━━━━━━━━━━━━━━━━━━━━━━━━\u001b[0m \u001b[32m10.5/10.5 MB\u001b[0m \u001b[31m21.5 MB/s\u001b[0m eta \u001b[36m0:00:00\u001b[0m\n",
            "\u001b[?25hCollecting jmespath<2.0.0,>=0.7.1\n",
            "  Downloading jmespath-1.0.1-py3-none-any.whl (20 kB)\n",
            "Collecting urllib3<1.27,>=1.25.4\n",
            "  Downloading urllib3-1.26.14-py2.py3-none-any.whl (140 kB)\n",
            "\u001b[2K     \u001b[90m━━━━━━━━━━━━━━━━━━━━━━━━━━━━━━━━━━━━━━━\u001b[0m \u001b[32m140.6/140.6 KB\u001b[0m \u001b[31m5.8 MB/s\u001b[0m eta \u001b[36m0:00:00\u001b[0m\n",
            "\u001b[?25hRequirement already satisfied: python-dateutil<3.0.0,>=2.1 in /usr/local/lib/python3.8/dist-packages (from botocore<1.30.0,>=1.29.80->boto3) (2.8.2)\n",
            "Requirement already satisfied: six>=1.5 in /usr/local/lib/python3.8/dist-packages (from python-dateutil<3.0.0,>=2.1->botocore<1.30.0,>=1.29.80->boto3) (1.15.0)\n",
            "Installing collected packages: urllib3, jmespath, botocore, s3transfer, boto3\n",
            "  Attempting uninstall: urllib3\n",
            "    Found existing installation: urllib3 1.24.3\n",
            "    Uninstalling urllib3-1.24.3:\n",
            "      Successfully uninstalled urllib3-1.24.3\n",
            "Successfully installed boto3-1.26.80 botocore-1.29.80 jmespath-1.0.1 s3transfer-0.6.0 urllib3-1.26.14\n",
            "Looking in indexes: https://pypi.org/simple, https://us-python.pkg.dev/colab-wheels/public/simple/\n",
            "Collecting awscli\n",
            "  Downloading awscli-1.27.80-py3-none-any.whl (4.0 MB)\n",
            "\u001b[2K     \u001b[90m━━━━━━━━━━━━━━━━━━━━━━━━━━━━━━━━━━━━━━━━\u001b[0m \u001b[32m4.0/4.0 MB\u001b[0m \u001b[31m10.2 MB/s\u001b[0m eta \u001b[36m0:00:00\u001b[0m\n",
            "\u001b[?25hCollecting colorama<0.4.5,>=0.2.5\n",
            "  Downloading colorama-0.4.4-py2.py3-none-any.whl (16 kB)\n",
            "Requirement already satisfied: s3transfer<0.7.0,>=0.6.0 in /usr/local/lib/python3.8/dist-packages (from awscli) (0.6.0)\n",
            "Collecting rsa<4.8,>=3.1.2\n",
            "  Downloading rsa-4.7.2-py3-none-any.whl (34 kB)\n",
            "Collecting PyYAML<5.5,>=3.10\n",
            "  Downloading PyYAML-5.4.1-cp38-cp38-manylinux1_x86_64.whl (662 kB)\n",
            "\u001b[2K     \u001b[90m━━━━━━━━━━━━━━━━━━━━━━━━━━━━━━━━━━━━━━\u001b[0m \u001b[32m662.4/662.4 KB\u001b[0m \u001b[31m30.4 MB/s\u001b[0m eta \u001b[36m0:00:00\u001b[0m\n",
            "\u001b[?25hRequirement already satisfied: docutils<0.17,>=0.10 in /usr/local/lib/python3.8/dist-packages (from awscli) (0.16)\n",
            "Requirement already satisfied: botocore==1.29.80 in /usr/local/lib/python3.8/dist-packages (from awscli) (1.29.80)\n",
            "Requirement already satisfied: python-dateutil<3.0.0,>=2.1 in /usr/local/lib/python3.8/dist-packages (from botocore==1.29.80->awscli) (2.8.2)\n",
            "Requirement already satisfied: jmespath<2.0.0,>=0.7.1 in /usr/local/lib/python3.8/dist-packages (from botocore==1.29.80->awscli) (1.0.1)\n",
            "Requirement already satisfied: urllib3<1.27,>=1.25.4 in /usr/local/lib/python3.8/dist-packages (from botocore==1.29.80->awscli) (1.26.14)\n",
            "Requirement already satisfied: pyasn1>=0.1.3 in /usr/local/lib/python3.8/dist-packages (from rsa<4.8,>=3.1.2->awscli) (0.4.8)\n",
            "Requirement already satisfied: six>=1.5 in /usr/local/lib/python3.8/dist-packages (from python-dateutil<3.0.0,>=2.1->botocore==1.29.80->awscli) (1.15.0)\n",
            "Installing collected packages: rsa, PyYAML, colorama, awscli\n",
            "  Attempting uninstall: rsa\n",
            "    Found existing installation: rsa 4.9\n",
            "    Uninstalling rsa-4.9:\n",
            "      Successfully uninstalled rsa-4.9\n",
            "  Attempting uninstall: PyYAML\n",
            "    Found existing installation: PyYAML 6.0\n",
            "    Uninstalling PyYAML-6.0:\n",
            "      Successfully uninstalled PyYAML-6.0\n",
            "Successfully installed PyYAML-5.4.1 awscli-1.27.80 colorama-0.4.4 rsa-4.7.2\n",
            "Looking in indexes: https://pypi.org/simple, https://us-python.pkg.dev/colab-wheels/public/simple/\n",
            "Collecting openai\n",
            "  Downloading openai-0.26.5.tar.gz (55 kB)\n",
            "\u001b[2K     \u001b[90m━━━━━━━━━━━━━━━━━━━━━━━━━━━━━━━━━━━━━━━━\u001b[0m \u001b[32m55.5/55.5 KB\u001b[0m \u001b[31m2.8 MB/s\u001b[0m eta \u001b[36m0:00:00\u001b[0m\n",
            "\u001b[?25h  Installing build dependencies ... \u001b[?25l\u001b[?25hdone\n",
            "  Getting requirements to build wheel ... \u001b[?25l\u001b[?25hdone\n",
            "  Installing backend dependencies ... \u001b[?25l\u001b[?25hdone\n",
            "  Preparing metadata (pyproject.toml) ... \u001b[?25l\u001b[?25hdone\n",
            "Requirement already satisfied: tqdm in /usr/local/lib/python3.8/dist-packages (from openai) (4.64.1)\n",
            "Requirement already satisfied: aiohttp in /usr/local/lib/python3.8/dist-packages (from openai) (3.8.4)\n",
            "Requirement already satisfied: requests>=2.20 in /usr/local/lib/python3.8/dist-packages (from openai) (2.25.1)\n",
            "Requirement already satisfied: idna<3,>=2.5 in /usr/local/lib/python3.8/dist-packages (from requests>=2.20->openai) (2.10)\n",
            "Requirement already satisfied: certifi>=2017.4.17 in /usr/local/lib/python3.8/dist-packages (from requests>=2.20->openai) (2022.12.7)\n",
            "Requirement already satisfied: urllib3<1.27,>=1.21.1 in /usr/local/lib/python3.8/dist-packages (from requests>=2.20->openai) (1.26.14)\n",
            "Requirement already satisfied: chardet<5,>=3.0.2 in /usr/local/lib/python3.8/dist-packages (from requests>=2.20->openai) (4.0.0)\n",
            "Requirement already satisfied: attrs>=17.3.0 in /usr/local/lib/python3.8/dist-packages (from aiohttp->openai) (22.2.0)\n",
            "Requirement already satisfied: aiosignal>=1.1.2 in /usr/local/lib/python3.8/dist-packages (from aiohttp->openai) (1.3.1)\n",
            "Requirement already satisfied: charset-normalizer<4.0,>=2.0 in /usr/local/lib/python3.8/dist-packages (from aiohttp->openai) (3.0.1)\n",
            "Requirement already satisfied: frozenlist>=1.1.1 in /usr/local/lib/python3.8/dist-packages (from aiohttp->openai) (1.3.3)\n",
            "Requirement already satisfied: yarl<2.0,>=1.0 in /usr/local/lib/python3.8/dist-packages (from aiohttp->openai) (1.8.2)\n",
            "Requirement already satisfied: multidict<7.0,>=4.5 in /usr/local/lib/python3.8/dist-packages (from aiohttp->openai) (6.0.4)\n",
            "Requirement already satisfied: async-timeout<5.0,>=4.0.0a3 in /usr/local/lib/python3.8/dist-packages (from aiohttp->openai) (4.0.2)\n",
            "Building wheels for collected packages: openai\n",
            "  Building wheel for openai (pyproject.toml) ... \u001b[?25l\u001b[?25hdone\n",
            "  Created wheel for openai: filename=openai-0.26.5-py3-none-any.whl size=67620 sha256=538290e1f3665916f3daf2d94da705d09b936754d1c466f235afe14de476f67d\n",
            "  Stored in directory: /root/.cache/pip/wheels/a7/47/99/8273a59fbd59c303e8ff175416d5c1c9c03a2e83ebf7525a99\n",
            "Successfully built openai\n",
            "Installing collected packages: openai\n",
            "Successfully installed openai-0.26.5\n",
            "Looking in indexes: https://pypi.org/simple, https://us-python.pkg.dev/colab-wheels/public/simple/\n",
            "Collecting neo4j\n",
            "  Downloading neo4j-5.6.0.tar.gz (171 kB)\n",
            "\u001b[2K     \u001b[90m━━━━━━━━━━━━━━━━━━━━━━━━━━━━━━━━━━━━━━━\u001b[0m \u001b[32m171.2/171.2 KB\u001b[0m \u001b[31m4.3 MB/s\u001b[0m eta \u001b[36m0:00:00\u001b[0m\n",
            "\u001b[?25h  Installing build dependencies ... \u001b[?25l\u001b[?25hdone\n",
            "  Getting requirements to build wheel ... \u001b[?25l\u001b[?25hdone\n",
            "  Installing backend dependencies ... \u001b[?25l\u001b[?25hdone\n",
            "  Preparing metadata (pyproject.toml) ... \u001b[?25l\u001b[?25hdone\n",
            "\u001b[33m  WARNING: Generating metadata for package neo4j produced metadata for project name unknown. Fix your #egg=neo4j fragments.\u001b[0m\u001b[33m\n",
            "\u001b[0mDiscarding \u001b[4;34mhttps://files.pythonhosted.org/packages/8b/c7/a2c8334996943294f4442d1e90fae62d6d51cff8f7f625295624ac881942/neo4j-5.6.0.tar.gz#sha256=99ba8321195a114a870704dd00463a0429c364c97dde603b39841e78ac05b97c (from https://pypi.org/simple/neo4j/) (requires-python:>=3.7)\u001b[0m: \u001b[33mRequested unknown from https://files.pythonhosted.org/packages/8b/c7/a2c8334996943294f4442d1e90fae62d6d51cff8f7f625295624ac881942/neo4j-5.6.0.tar.gz#sha256=99ba8321195a114a870704dd00463a0429c364c97dde603b39841e78ac05b97c has inconsistent name: filename has 'neo4j', but metadata has 'unknown'\u001b[0m\n",
            "  Downloading neo4j-5.5.0.tar.gz (171 kB)\n",
            "\u001b[2K     \u001b[90m━━━━━━━━━━━━━━━━━━━━━━━━━━━━━━━━━━━━━━\u001b[0m \u001b[32m171.0/171.0 KB\u001b[0m \u001b[31m11.7 MB/s\u001b[0m eta \u001b[36m0:00:00\u001b[0m\n",
            "\u001b[?25h  Installing build dependencies ... \u001b[?25l\u001b[?25hdone\n",
            "  Getting requirements to build wheel ... \u001b[?25l\u001b[?25hdone\n",
            "  Installing backend dependencies ... \u001b[?25l\u001b[?25hdone\n",
            "  Preparing metadata (pyproject.toml) ... \u001b[?25l\u001b[?25hdone\n",
            "\u001b[33m  WARNING: Generating metadata for package neo4j produced metadata for project name unknown. Fix your #egg=neo4j fragments.\u001b[0m\u001b[33m\n",
            "\u001b[0mDiscarding \u001b[4;34mhttps://files.pythonhosted.org/packages/d3/b7/f1f8ffdb12d7e10d31b0a23bc2d8a78ad4659474eda2a62f023717df2ba1/neo4j-5.5.0.tar.gz#sha256=2632386380b2ebb7d6a80e4186899ef342ef0507601c65e200696f13742046b8 (from https://pypi.org/simple/neo4j/) (requires-python:>=3.7)\u001b[0m: \u001b[33mRequested unknown from https://files.pythonhosted.org/packages/d3/b7/f1f8ffdb12d7e10d31b0a23bc2d8a78ad4659474eda2a62f023717df2ba1/neo4j-5.5.0.tar.gz#sha256=2632386380b2ebb7d6a80e4186899ef342ef0507601c65e200696f13742046b8 has inconsistent name: filename has 'neo4j', but metadata has 'unknown'\u001b[0m\n",
            "  Downloading neo4j-5.4.0.tar.gz (162 kB)\n",
            "\u001b[2K     \u001b[90m━━━━━━━━━━━━━━━━━━━━━━━━━━━━━━━━━━━━━━\u001b[0m \u001b[32m162.5/162.5 KB\u001b[0m \u001b[31m14.8 MB/s\u001b[0m eta \u001b[36m0:00:00\u001b[0m\n",
            "\u001b[?25h  Installing build dependencies ... \u001b[?25l\u001b[?25hdone\n",
            "  Getting requirements to build wheel ... \u001b[?25l\u001b[?25hdone\n",
            "  Installing backend dependencies ... \u001b[?25l\u001b[?25hdone\n",
            "  Preparing metadata (pyproject.toml) ... \u001b[?25l\u001b[?25hdone\n",
            "\u001b[33m  WARNING: Generating metadata for package neo4j produced metadata for project name unknown. Fix your #egg=neo4j fragments.\u001b[0m\u001b[33m\n",
            "\u001b[0mDiscarding \u001b[4;34mhttps://files.pythonhosted.org/packages/01/b1/f0fe9bc5f59d54bd0ff74afdfdc58911aaab53315f2ed40087b018eb54f8/neo4j-5.4.0.tar.gz#sha256=50293f716412cc8a0fc87c364b0da105aa439859d28ffa5c89f5ca0d44514049 (from https://pypi.org/simple/neo4j/) (requires-python:>=3.7)\u001b[0m: \u001b[33mRequested unknown from https://files.pythonhosted.org/packages/01/b1/f0fe9bc5f59d54bd0ff74afdfdc58911aaab53315f2ed40087b018eb54f8/neo4j-5.4.0.tar.gz#sha256=50293f716412cc8a0fc87c364b0da105aa439859d28ffa5c89f5ca0d44514049 has inconsistent name: filename has 'neo4j', but metadata has 'unknown'\u001b[0m\n",
            "  Downloading neo4j-5.3.0.tar.gz (157 kB)\n",
            "\u001b[2K     \u001b[90m━━━━━━━━━━━━━━━━━━━━━━━━━━━━━━━━━━━━━━\u001b[0m \u001b[32m157.8/157.8 KB\u001b[0m \u001b[31m13.2 MB/s\u001b[0m eta \u001b[36m0:00:00\u001b[0m\n",
            "\u001b[?25h  Installing build dependencies ... \u001b[?25l\u001b[?25hdone\n",
            "  Getting requirements to build wheel ... \u001b[?25l\u001b[?25hdone\n",
            "  Installing backend dependencies ... \u001b[?25l\u001b[?25hdone\n",
            "  Preparing metadata (pyproject.toml) ... \u001b[?25l\u001b[?25hdone\n",
            "\u001b[33m  WARNING: Generating metadata for package neo4j produced metadata for project name unknown. Fix your #egg=neo4j fragments.\u001b[0m\u001b[33m\n",
            "\u001b[0mDiscarding \u001b[4;34mhttps://files.pythonhosted.org/packages/56/84/c4ac67441e6f2c68e859e64631d6a218a922a2aca0603dcf96ff99f17734/neo4j-5.3.0.tar.gz#sha256=0c1c7d8812eed60da0a442d1e0f35edbda248255703e506a081cb70e083b3b5c (from https://pypi.org/simple/neo4j/) (requires-python:>=3.7)\u001b[0m: \u001b[33mRequested unknown from https://files.pythonhosted.org/packages/56/84/c4ac67441e6f2c68e859e64631d6a218a922a2aca0603dcf96ff99f17734/neo4j-5.3.0.tar.gz#sha256=0c1c7d8812eed60da0a442d1e0f35edbda248255703e506a081cb70e083b3b5c has inconsistent name: filename has 'neo4j', but metadata has 'unknown'\u001b[0m\n",
            "  Downloading neo4j-5.2.1.tar.gz (174 kB)\n",
            "\u001b[2K     \u001b[90m━━━━━━━━━━━━━━━━━━━━━━━━━━━━━━━━━━━━━━\u001b[0m \u001b[32m174.2/174.2 KB\u001b[0m \u001b[31m19.1 MB/s\u001b[0m eta \u001b[36m0:00:00\u001b[0m\n",
            "\u001b[?25h  Preparing metadata (setup.py) ... \u001b[?25l\u001b[?25hdone\n",
            "Requirement already satisfied: pytz in /usr/local/lib/python3.8/dist-packages (from neo4j) (2022.7.1)\n",
            "Building wheels for collected packages: neo4j\n",
            "  Building wheel for neo4j (setup.py) ... \u001b[?25l\u001b[?25hdone\n",
            "  Created wheel for neo4j: filename=neo4j-5.2.1-py3-none-any.whl size=249499 sha256=0be4e5b2b4e544943bb4964cd2ab6edc5e5fe1c4c1ae33e462e679bc8e2cfd05\n",
            "  Stored in directory: /root/.cache/pip/wheels/3f/cb/09/5c56a88c1650f9d4fe57e59d9a67a5d77fcef88f55d5c233f1\n",
            "Successfully built neo4j\n",
            "Installing collected packages: neo4j\n",
            "Successfully installed neo4j-5.2.1\n"
          ]
        }
      ],
      "source": [
        "!pip install boto3\n",
        "!pip install awscli\n",
        "!pip install --upgrade openai\n",
        "!pip install neo4j"
      ]
    },
    {
      "cell_type": "code",
      "source": [
        "import boto3\n",
        "import openai\n",
        "from neo4j import GraphDatabase\n"
      ],
      "metadata": {
        "id": "VZk4gYZyHDTt"
      },
      "execution_count": null,
      "outputs": []
    },
    {
      "cell_type": "code",
      "source": [
        "!aws configure\n",
        "\n",
        "kendra_index_id = input(\"Your Kendra index id: \")\n",
        "\n",
        "GPT_APIKEY = input(\"Your GPT-3 API Key: \")\n",
        "\n",
        "url = input(\"Your Doctor.ai backend url: \")\n",
        "neo4j_username = input(\"Your Doctor.ai username: \")\n",
        "neo4j_password = input(\"Your Doctor.ai password: \")\n",
        "driver = GraphDatabase.driver(url, auth=(neo4j_username, neo4j_password))"
      ],
      "metadata": {
        "id": "eHm0O7euKLIK"
      },
      "execution_count": null,
      "outputs": []
    },
    {
      "cell_type": "code",
      "source": [
        "kendra = boto3.client(\"kendra\", region_name='us-east-1')\n",
        "\n",
        "def get_kendra(query):\n",
        "    \n",
        "    response = kendra.query(\n",
        "            QueryText = query,\n",
        "            IndexId = kendra_index_id)      \n",
        "\n",
        "    answer = \"\"\n",
        "    for query_result in response[\"ResultItems\"]:\n",
        "\n",
        "        \n",
        "        if query_result[\"Type\"]==\"QUESTION_ANSWER\":\n",
        "            answer_text = query_result[\"DocumentExcerpt\"][\"Text\"]\n",
        "            return answer_text\n",
        "\n",
        "        elif query_result[\"Type\"]==\"ANSWER\":\n",
        "            answer_text = query_result[\"DocumentExcerpt\"][\"Text\"]\n",
        "            content = \"\"\n",
        "            for line in answer_text.split(\"\\n\"):\n",
        "                line = line.strip()\n",
        "                if line != \"\":\n",
        "                    content += \" \" + line\n",
        "            answer = content\n",
        "    return answer\n",
        "\n",
        "\n"
      ],
      "metadata": {
        "id": "n3qEFEiXKdH0"
      },
      "execution_count": null,
      "outputs": []
    },
    {
      "cell_type": "code",
      "source": [
        "get_kendra(\"Which drugs are used to treat COVID?\")"
      ],
      "metadata": {
        "colab": {
          "base_uri": "https://localhost:8080/",
          "height": 35
        },
        "id": "ODmFpD8qb3R3",
        "outputId": "1baa5333-854b-49c8-a132-4c8a95858733"
      },
      "execution_count": null,
      "outputs": [
        {
          "output_type": "execute_result",
          "data": {
            "text/plain": [
              "'Remdesivir, nirmatrelvir and ritonavir'"
            ],
            "application/vnd.google.colaboratory.intrinsic+json": {
              "type": "string"
            }
          },
          "metadata": {},
          "execution_count": 5
        }
      ]
    },
    {
      "cell_type": "code",
      "source": [
        "get_kendra(\"What is pulmonary embolism?\")"
      ],
      "metadata": {
        "id": "Ags-boWTcWmO",
        "outputId": "73c85cd5-61bd-4bcb-df12-8845e09144e4",
        "colab": {
          "base_uri": "https://localhost:8080/",
          "height": 35
        }
      },
      "execution_count": null,
      "outputs": [
        {
          "output_type": "execute_result",
          "data": {
            "text/plain": [
              "'A pulmonary embolism is a blocked blood vessel in lungs. It can be life-threatening if not treated quickly.'"
            ],
            "application/vnd.google.colaboratory.intrinsic+json": {
              "type": "string"
            }
          },
          "metadata": {},
          "execution_count": 6
        }
      ]
    },
    {
      "cell_type": "code",
      "source": [
        "openai.api_key = GPT_APIKEY\n",
        "\n",
        "def get_GPT_3 (query, temp):\n",
        "\n",
        "  response = openai.Completion.create(\n",
        "    engine=\"text-davinci-003\",\n",
        "    prompt=query,\n",
        "    temperature=temp,\n",
        "    max_tokens=256,\n",
        "    top_p=1,\n",
        "    frequency_penalty=0,\n",
        "    presence_penalty=0\n",
        "  )\n",
        "\n",
        "  return response.choices[0].text.lstrip()\n",
        "\n"
      ],
      "metadata": {
        "id": "AuHaoNPOKfyT"
      },
      "execution_count": null,
      "outputs": []
    },
    {
      "cell_type": "code",
      "source": [
        "training_text = \"\"\"\n",
        "#How many times did patient id_1 visit the ICU?\n",
        "MATCH (p:Patient)-[:HAS_STAY]->(v:PatientUnitStay) WHERE p.patient_id =~ '(?i)id_1' RETURN COUNT(v)\n",
        "\n",
        "#When did patient id_1 visit the ICU?\n",
        "MATCH (p:Patient)-[:HAS_STAY]->(v:PatientUnitStay) WHERE p.patient_id =~ '(?i)id_1' RETURN v.hospitaldischargeyear\n",
        "\n",
        "#What was the diagnosis of patient id_1's visit?; Why did patient id_1 visit the ICU?; What was the cause for patient id_1's visit?\n",
        "MATCH (p:Patient)-[:HAS_STAY]->()-[:HAS_DIAG]->()-[:IS_DISEASE]->(d:Disease) WHERE p.patient_id =~ '(?i)id_1' RETURN d.name\n",
        "\n",
        "#Which drug treats COVID-19?; Which kind of compound treats COVID-19?\n",
        "MATCH (c:Compound)-[:treats]->(d:Disease) WHERE d.name =~ '(?i)COVID-19' RETURN c.name\n",
        "\n",
        "#Which pathogen causes COVID-19?; What is the disease agent for COVID-19?; Which organism causes COVID-19?\n",
        "MATCH (o:Pathogen)-[:causes]->(d:Disease) WHERE d.name =~ '(?i)COVID-19' RETURN o.name\n",
        "\n",
        "#Which gene causes Christianson syndrome?\n",
        "MATCH (g:Gene)-[r1:associates]->(d:Disease) WHERE d.name =~ '(?i)Christianson syndrome' RETURN g.name\n",
        "\n",
        "#Tell me something about the disease named \"Christianson syndrome\"\n",
        "MATCH (d:Disease) WHERE d.name =~ '(?i)Christianson syndrome' RETURN d.description\n",
        "\n",
        "#I have Dyspepsia, Hiccup and Edema. What can be the cause of this?\n",
        "MATCH (s1:Symptom) <-[:presents]- (d:Disease) WHERE s1.name =~ '(?i)Dyspepsia'  MATCH (s2:Symptom) <-[:presents]- (d:Disease) WHERE s2.name =~ '(?i)Hiccup'  MATCH (s3:Symptom) <-[:presents]- (d:Disease) WHERE s3.name =~ '(?i)Edema' RETURN d.name\n",
        "\n",
        "#what kinds of side effects do Doxepin have?\n",
        "MATCH (d:Compound)-[:causes]->(s:\\`Side Effect\\`) WHERE d.name =~ '(?i)Doxepin' RETURN s.name\n",
        "\n",
        "#what functions does the gene PCBD1 have?\n",
        "MATCH (g:Gene)-[:participates]->(f:\\`Molecular Function\\`) WHERE g.name =~ '(?i)PCBD1' RETURN f.name\n",
        "\n",
        "#which kinds of cancers can be found in frontal sinus?; Which tumors can you find in frontal sinus?\n",
        "MATCH (d:Disease)-[:localizes]->(a:Anatomy) WHERE a.name =~ '(?i)frontal sinus' AND (d.name CONTAINS \"cancer\" OR d.disease_category = \"Cancer\") RETURN DISTINCT(d.name)\n",
        "\n",
        "#ELI5 what is lung cancer; Explain lung cancer in simple terms; Explain lung cancer in plain English\n",
        "ELI5 MATCH (d:Disease) WHERE d.name =~ '(?i)lung cancer' RETURN d.description\n",
        "\n",
        "#\"\"\""
      ],
      "metadata": {
        "id": "W9UrghAZQPZQ"
      },
      "execution_count": null,
      "outputs": []
    },
    {
      "cell_type": "code",
      "source": [
        "def get_cypher(query):\n",
        "    prompt = training_text + query\n",
        "\n",
        "    cypher = get_GPT_3(prompt, 0)\n",
        "\n",
        "    return cypher\n",
        "\n",
        "#cypher = get_cypher(\"What is small cell lung cancer?\")\n",
        "#print (cypher)"
      ],
      "metadata": {
        "id": "G18-t9ZyPm7w"
      },
      "execution_count": null,
      "outputs": []
    },
    {
      "cell_type": "code",
      "source": [
        "def get_doctorai(query):\n",
        "    cypher = get_cypher(query)\n",
        "\n",
        "    with driver.session() as session:\n",
        "        result = session.run(cypher)\n",
        "        return \", \".join(result.value())\n",
        "\n"
      ],
      "metadata": {
        "id": "FUTPLYwQStZS"
      },
      "execution_count": null,
      "outputs": []
    },
    {
      "cell_type": "code",
      "source": [
        "answer_doctorai = get_doctorai(\"Which drugs are used to treat COVID-19?\")\n",
        "answer_doctorai"
      ],
      "metadata": {
        "colab": {
          "base_uri": "https://localhost:8080/",
          "height": 53
        },
        "id": "-kqueZIo04VO",
        "outputId": "c82f95c3-c71e-4f4b-c499-6b9efe9e9910"
      },
      "execution_count": null,
      "outputs": [
        {
          "output_type": "execute_result",
          "data": {
            "text/plain": [
              "'Etesevimab, Nirmatrelvir and ritonavir, Sotrovimab, Elasomeran, Tozinameran, Molnupiravir, COVID-19 vaccine, Bamlanivimab, Remdesivir, Tixagevimab and cilgavimab'"
            ],
            "application/vnd.google.colaboratory.intrinsic+json": {
              "type": "string"
            }
          },
          "metadata": {},
          "execution_count": 11
        }
      ]
    },
    {
      "cell_type": "code",
      "source": [
        "from typing import List\n",
        "import ast\n",
        "\n",
        "def get_consensus(statements: List[str], weights: List[int], my_query):\n",
        "    statements_str = \"\\n\".join([f\"{i} | {y}\" for i, y in enumerate(statements)])\n",
        "    #print (statements_str)\n",
        "\n",
        "    ensemble_prompt = f\"\"\"\n",
        "You have three answers to the same question.\n",
        "\n",
        "If the answer contains multiple items, write the statement id and convert the items into a list like this\n",
        "Statements:\n",
        "0 | They used A, B.\n",
        "1 | B was their tools.\n",
        "2 | They chose C plus A.\n",
        "\n",
        "Question:\n",
        "What do they use?\n",
        "\n",
        "Answers:\n",
        "The answers are items\n",
        "0 | [\"A\", \"B\"]\n",
        "1 | [\"B\"]\n",
        "2 | [\"A\", \"C\"]\n",
        "\n",
        "If they are statements without a list of items, unify them into a coherent statement like this\n",
        "Statements:\n",
        "0 | This medicine XYZ is used to treat lung cancer.\n",
        "1 | XYZ is developed by the company ABC.\n",
        "2 | The drug XYZ is approved by the FDA.\n",
        "\n",
        "Question:\n",
        "Explain the drug XYZ.\n",
        "\n",
        "Answers:\n",
        "The answer is a statement\n",
        "The company ABC has developed the drug XYZ to treat lung cancer. XYZ has reveiced the FDA approval.\n",
        "\n",
        "\n",
        "Statements:\n",
        "{statements_str}\n",
        "\n",
        "Question:\n",
        "{my_query}\n",
        "\n",
        "Answers:\n",
        "\"\"\"\n",
        "    \n",
        "    result = get_GPT_3 (ensemble_prompt, 0)\n",
        "    #print (ensemble_prompt)\n",
        "    print (result)\n",
        "    \n",
        "    container = {}\n",
        "    is_list = True\n",
        "    for line in result.split(\"\\n\"):\n",
        "        line = line.strip()\n",
        "        if len(line) > 0:\n",
        "            if line == \"The answers are items\":\n",
        "                is_list = True\n",
        "                continue\n",
        "            elif line == \"The answer is a statement\":\n",
        "                is_list = False\n",
        "                continue\n",
        "            \n",
        "            if is_list == True:\n",
        "                if \"|\" in line:\n",
        "                    fields = line.split(\"|\")\n",
        "\n",
        "                    id = int(fields[0].strip())\n",
        "                    items = ast.literal_eval(fields[1].strip())\n",
        "                    \n",
        "                    for item in items:\n",
        "                        if item not in container:\n",
        "                            container[item] = 0\n",
        "                        container[item] += weights[id]\n",
        "            else:\n",
        "                container[line] = sum(weights)\n",
        "    \n",
        "    return container\n",
        "\n",
        "\n",
        "bots = [\"doctor.ai\", \"kendra\", \"GPT-3\"]\n",
        "statements = [\"remdesivir, nirmatrelvir and ritonavir\", \"I used hydroxychloroquin to treat COVID\", \"remdesivir, nirmatrelvir and ritonavir have been successfully used against COVID-19\"]\n",
        "weights = [9, 6, 5]\n",
        "\n",
        "print (get_consensus(statements, weights, \"Which drugs are used to treat COVID?\"))"
      ],
      "metadata": {
        "colab": {
          "base_uri": "https://localhost:8080/"
        },
        "id": "YQcEc6iLsP4j",
        "outputId": "a5a65ae1-ee82-4351-f0ba-a53772bc08b3"
      },
      "execution_count": null,
      "outputs": [
        {
          "output_type": "stream",
          "name": "stdout",
          "text": [
            "The answers are items\n",
            "0 | [\"remdesivir\", \"nirmatrelvir\", \"ritonavir\"]\n",
            "1 | [\"hydroxychloroquin\"]\n",
            "2 | [\"remdesivir\", \"nirmatrelvir\", \"ritonavir\"]\n",
            "{'remdesivir': 14, 'nirmatrelvir': 14, 'ritonavir': 14, 'hydroxychloroquin': 6}\n"
          ]
        }
      ]
    },
    {
      "cell_type": "code",
      "source": [
        "my_query = \"What is small cell lung cancer?\""
      ],
      "metadata": {
        "id": "whfbJK2OG4uY"
      },
      "execution_count": null,
      "outputs": []
    },
    {
      "cell_type": "code",
      "source": [
        "answer_kendra = get_kendra(my_query)\n",
        "answer_kendra"
      ],
      "metadata": {
        "colab": {
          "base_uri": "https://localhost:8080/",
          "height": 35
        },
        "id": "3ibqwy6IGpMA",
        "outputId": "ca5b597a-0bf9-44e8-849b-75318279cb10"
      },
      "execution_count": null,
      "outputs": [
        {
          "output_type": "execute_result",
          "data": {
            "text/plain": [
              "'Small cell lung cancer is a disease in which malignant (cancer) cells form in the tissues of the lung.'"
            ],
            "application/vnd.google.colaboratory.intrinsic+json": {
              "type": "string"
            }
          },
          "metadata": {},
          "execution_count": 73
        }
      ]
    },
    {
      "cell_type": "code",
      "source": [
        "answer_doctorai = get_doctorai(my_query)\n",
        "answer_doctorai"
      ],
      "metadata": {
        "colab": {
          "base_uri": "https://localhost:8080/",
          "height": 124
        },
        "id": "rAqiuVYmGqNa",
        "outputId": "f5da867b-9739-42f3-d275-b6db456fd644"
      },
      "execution_count": null,
      "outputs": [
        {
          "output_type": "execute_result",
          "data": {
            "text/plain": [
              "'Lung cancer is a leading cause of cancer death among men and women in industrialized countries. Small cell lung carcinoma (SCLC) is a highly aggressive neoplasm, which accounts for approximately 25% of all lung cancer cases. Molecular mechanisms altered in SCLC include induced expression of oncogene, MYC, and loss of tumorsuppressor genes, such as p53, PTEN, RB, and FHIT. The overexpression of MYC proteins in SCLC is largely a result of gene amplification. Such overexpression leads to more rapid proliferation and loss of terminal differentiation. Mutation or deletion of p53 or PTEN can lead to more rapid proliferation and reduced apoptosis. The retinoblastoma gene RB1 encodes a nuclear phosphoprotein that helps to regulate cell-cycle progression. The fragile histidine triad gene FHIT encodes the enzyme diadenosine triphosphate hydrolase, which is thought to have an indirect role in proapoptosis and cell-cycle control.'"
            ],
            "application/vnd.google.colaboratory.intrinsic+json": {
              "type": "string"
            }
          },
          "metadata": {},
          "execution_count": 74
        }
      ]
    },
    {
      "cell_type": "code",
      "source": [
        "answer_gpt_3 = get_GPT_3(my_query, 0.8)\n",
        "answer_gpt_3"
      ],
      "metadata": {
        "colab": {
          "base_uri": "https://localhost:8080/",
          "height": 88
        },
        "id": "LtD52OcMGwGj",
        "outputId": "d008e735-1d63-4535-c080-2056df3ef470"
      },
      "execution_count": null,
      "outputs": [
        {
          "output_type": "execute_result",
          "data": {
            "text/plain": [
              "'Small cell lung cancer (SCLC) is an aggressive form of lung cancer that affects a small number of cells in the lung. It is one of two main types of lung cancer, the other being non-small cell lung cancer (NSCLC). It is much less common than NSCLC and tends to spread quickly, often to other parts of the body. Symptoms of SCLC can include coughing, chest pain, shortness of breath, and weight loss. Treatment typically involves a combination of chemotherapy, radiation therapy, and surgery.'"
            ],
            "application/vnd.google.colaboratory.intrinsic+json": {
              "type": "string"
            }
          },
          "metadata": {},
          "execution_count": 75
        }
      ]
    },
    {
      "cell_type": "code",
      "source": [
        "bots = [\"doctor.ai\", \"kendra\", \"GPT-3\"]\n",
        "statements = [answer_doctorai, answer_kendra, answer_gpt_3]\n",
        "weights = [9, 6, 5]\n",
        "\n",
        "for b, s in zip(bots, statements):\n",
        "    print (f\"{b}: {s}\")\n",
        "\n",
        "print (get_consensus(statements, weights, my_query))"
      ],
      "metadata": {
        "id": "s27r7Efta9ab",
        "colab": {
          "base_uri": "https://localhost:8080/"
        },
        "outputId": "5612b98d-f3d5-418d-ab16-84b4df0c0180"
      },
      "execution_count": null,
      "outputs": [
        {
          "output_type": "stream",
          "name": "stdout",
          "text": [
            "doctor.ai: Lung cancer is a leading cause of cancer death among men and women in industrialized countries. Small cell lung carcinoma (SCLC) is a highly aggressive neoplasm, which accounts for approximately 25% of all lung cancer cases. Molecular mechanisms altered in SCLC include induced expression of oncogene, MYC, and loss of tumorsuppressor genes, such as p53, PTEN, RB, and FHIT. The overexpression of MYC proteins in SCLC is largely a result of gene amplification. Such overexpression leads to more rapid proliferation and loss of terminal differentiation. Mutation or deletion of p53 or PTEN can lead to more rapid proliferation and reduced apoptosis. The retinoblastoma gene RB1 encodes a nuclear phosphoprotein that helps to regulate cell-cycle progression. The fragile histidine triad gene FHIT encodes the enzyme diadenosine triphosphate hydrolase, which is thought to have an indirect role in proapoptosis and cell-cycle control.\n",
            "kendra: Small cell lung cancer is a disease in which malignant (cancer) cells form in the tissues of the lung.\n",
            "GPT-3: Small cell lung cancer (SCLC) is an aggressive form of lung cancer that affects a small number of cells in the lung. It is one of two main types of lung cancer, the other being non-small cell lung cancer (NSCLC). It is much less common than NSCLC and tends to spread quickly, often to other parts of the body. Symptoms of SCLC can include coughing, chest pain, shortness of breath, and weight loss. Treatment typically involves a combination of chemotherapy, radiation therapy, and surgery.\n",
            "The answer is a statement\n",
            "Small cell lung cancer (SCLC) is an aggressive form of lung cancer that affects a small number of cells in the lung. It is characterized by the overexpression of oncogene MYC, loss of tumor suppressor genes such as p53, PTEN, RB, and FHIT, and can lead to more rapid proliferation and reduced apoptosis. Symptoms of SCLC can include coughing, chest pain, shortness of breath, and weight loss. Treatment typically involves a combination of chemotherapy, radiation therapy, and surgery.\n",
            "{'Small cell lung cancer (SCLC) is an aggressive form of lung cancer that affects a small number of cells in the lung. It is characterized by the overexpression of oncogene MYC, loss of tumor suppressor genes such as p53, PTEN, RB, and FHIT, and can lead to more rapid proliferation and reduced apoptosis. Symptoms of SCLC can include coughing, chest pain, shortness of breath, and weight loss. Treatment typically involves a combination of chemotherapy, radiation therapy, and surgery.': 20}\n"
          ]
        }
      ]
    },
    {
      "cell_type": "code",
      "source": [
        "my_query_2 = \"Which drugs are used to treat COVID?\""
      ],
      "metadata": {
        "id": "XKsQuZDtPo08"
      },
      "execution_count": null,
      "outputs": []
    },
    {
      "cell_type": "code",
      "source": [
        "answer_doctorai = get_doctorai(my_query_2)\n",
        "\n",
        "answer_gpt_3 = get_GPT_3(my_query_2, 0.8)\n",
        "\n",
        "answer_kendra = get_kendra(my_query_2)\n",
        "\n"
      ],
      "metadata": {
        "id": "PGjP8GoPBUE0"
      },
      "execution_count": null,
      "outputs": []
    },
    {
      "cell_type": "code",
      "source": [
        "bots = [\"doctor.ai\", \"kendra\", \"GPT-3\"]\n",
        "statements = [answer_doctorai.lower(), answer_kendra.lower(), answer_gpt_3.lower()]\n",
        "weights = [9, 6, 5]\n",
        "\n",
        "for b, s in zip(bots, statements):\n",
        "    print (f\"{b}: {s}\")\n",
        "\n",
        "print (get_consensus(statements, weights, my_query_2))"
      ],
      "metadata": {
        "id": "jkBQ21h2D0iA",
        "colab": {
          "base_uri": "https://localhost:8080/"
        },
        "outputId": "44e37d99-bb56-4721-bd86-afe5fb61af69"
      },
      "execution_count": null,
      "outputs": [
        {
          "output_type": "stream",
          "name": "stdout",
          "text": [
            "doctor.ai: etesevimab, nirmatrelvir and ritonavir, sotrovimab, elasomeran, tozinameran, molnupiravir, covid-19 vaccine, bamlanivimab, remdesivir, tixagevimab and cilgavimab\n",
            "kendra: remdesivir, nirmatrelvir and ritonavir\n",
            "GPT-3: the main drugs used to treat covid-19 are antiviral medications, such as remdesivir and monoclonal antibodies. other drugs being studied to treat severe covid-19 cases include corticosteroids, antiviral drugs, interferon, and anticoagulants.\n",
            "The answer is a list\n",
            "0 | [\"etesevimab\", \"nirmatrelvir and ritonavir\", \"sotrovimab\", \"elasomeran\", \"tozinameran\", \"molnupiravir\", \"covid-19 vaccine\", \"bamlanivimab\", \"remdesivir\", \"tixagevimab\", \"cilgavimab\"]\n",
            "1 | [\"remdesivir\", \"nirmatrelvir and ritonavir\"]\n",
            "2 | [\"remdesivir\", \"monoclonal antibodies\", \"corticosteroids\", \"antiviral drugs\", \"interferon\", \"anticoagulants\"]\n",
            "{'etesevimab': 9, 'nirmatrelvir and ritonavir': 15, 'sotrovimab': 9, 'elasomeran': 9, 'tozinameran': 9, 'molnupiravir': 9, 'covid-19 vaccine': 9, 'bamlanivimab': 9, 'remdesivir': 20, 'tixagevimab': 9, 'cilgavimab': 9, 'monoclonal antibodies': 5, 'corticosteroids': 5, 'antiviral drugs': 5, 'interferon': 5, 'anticoagulants': 5}\n"
          ]
        }
      ]
    },
    {
      "cell_type": "code",
      "source": [],
      "metadata": {
        "id": "RCBopUIOvA4S"
      },
      "execution_count": null,
      "outputs": []
    }
  ]
}